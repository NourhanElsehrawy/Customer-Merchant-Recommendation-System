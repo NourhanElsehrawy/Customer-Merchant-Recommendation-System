{
 "cells": [
  {
   "cell_type": "markdown",
   "id": "f9697cb9",
   "metadata": {},
   "source": [
    "# Feature Engineering\n",
    "\n",
    "## Objective\n",
    "Create essential features for recommendation models\n",
    "\n",
    "\n",
    "1. **User Features**: Core behavior metrics (ratings, activity, preferences)\n",
    "2. **Item Features**: Essential product characteristics and popularity\n",
    "3. **Interaction Matrix**: Memory-safe collaborative filtering matrix\n",
    "4. **Temporal Validation**: Prevent data leakage with time splits"
   ]
  },
  {
   "cell_type": "code",
   "execution_count": null,
   "id": "af77084a",
   "metadata": {},
   "outputs": [
    {
     "name": "stdout",
     "output_type": "stream",
     "text": [
      "Collecting scipy\n",
      "  Using cached scipy-1.16.2-cp313-cp313-win_amd64.whl.metadata (60 kB)\n",
      "Requirement already satisfied: numpy<2.6,>=1.25.2 in d:\\personal\\job applications\\pwc\\customer-merchant-recommendation-system\\venv\\lib\\site-packages (from scipy) (2.3.4)\n",
      "Using cached scipy-1.16.2-cp313-cp313-win_amd64.whl (38.5 MB)\n",
      "Installing collected packages: scipy\n",
      "Successfully installed scipy-1.16.2\n"
     ]
    },
    {
     "name": "stderr",
     "output_type": "stream",
     "text": [
      "\n",
      "[notice] A new release of pip is available: 25.1.1 -> 25.2\n",
      "[notice] To update, run: python.exe -m pip install --upgrade pip\n"
     ]
    }
   ],
   "source": [
    "# Import libraries\n",
    "import pandas as pd\n",
    "import numpy as np\n",
    "import matplotlib.pyplot as plt\n",
    "import seaborn as sns\n",
    "import sys\n",
    "import warnings\n",
    "\n",
    "from scipy.sparse import issparse\n",
    "from datetime import datetime\n",
    "\n",
    "# Import utils\n",
    "sys.path.append('../utils')\n",
    "from db_loader import load_amazon_data_k_core\n",
    "from preprocessing import clean_reviews_data, clean_products_data\n",
    "from feature_engineering import load_and_create_features, create_feature_summary\n",
    "\n",
    "warnings.filterwarnings('ignore')\n",
    "plt.rcParams['figure.figsize'] = (10, 6)"
   ]
  },
  {
   "cell_type": "markdown",
   "id": "e00be721",
   "metadata": {},
   "source": [
    "## 1. Data Loading & Temporal Setup\n",
    "\n",
    "Load data and set up temporal validation to prevent data leakage."
   ]
  },
  {
   "cell_type": "code",
   "execution_count": 18,
   "id": "434104ea",
   "metadata": {},
   "outputs": [
    {
     "name": "stdout",
     "output_type": "stream",
     "text": [
      "Loading data...\n",
      "Loading Amazon data with 5-core filtering...\n",
      "Applying 5-core filtering...\n",
      "Original dataset: 4,000,000 reviews\n",
      "Applying 5-core filtering...\n",
      "Original dataset: 4,000,000 reviews\n",
      "Original users: 708,183\n",
      "Original users: 708,183\n",
      "Original items: 85,124\n",
      "Original items: 85,124\n",
      "Iteration 1: 2,943,852 reviews, 346,998 users, 63,126 items\n",
      "Iteration 1: 2,943,852 reviews, 346,998 users, 63,126 items\n",
      "Iteration 2: 2,894,141 reviews, 339,516 users, 57,095 items\n",
      "Iteration 2: 2,894,141 reviews, 339,516 users, 57,095 items\n",
      "Iteration 3: 2,876,440 reviews, 335,444 users, 56,691 items\n",
      "Iteration 3: 2,876,440 reviews, 335,444 users, 56,691 items\n",
      "Iteration 4: 2,874,287 reviews, 335,121 users, 56,472 items\n",
      "Iteration 4: 2,874,287 reviews, 335,121 users, 56,472 items\n",
      "Iteration 5: 2,873,490 reviews, 334,940 users, 56,453 items\n",
      "Iteration 5: 2,873,490 reviews, 334,940 users, 56,453 items\n",
      "Iteration 6: 2,873,422 reviews, 334,931 users, 56,445 items\n",
      "Iteration 6: 2,873,422 reviews, 334,931 users, 56,445 items\n",
      "Iteration 7: 2,873,395 reviews, 334,924 users, 56,445 items\n",
      "Iteration 7: 2,873,395 reviews, 334,924 users, 56,445 items\n",
      "Iteration 8: 2,873,395 reviews, 334,924 users, 56,445 items\n",
      "\n",
      "Final 5-core dataset:\n",
      "Reviews: 2,873,395 (71.8% of original)\n",
      "Iteration 8: 2,873,395 reviews, 334,924 users, 56,445 items\n",
      "\n",
      "Final 5-core dataset:\n",
      "Reviews: 2,873,395 (71.8% of original)\n",
      "Users: 334,924 (47.3% of original)\n",
      "Users: 334,924 (47.3% of original)\n",
      "Items: 56,445 (66.3% of original)\n",
      "Items: 56,445 (66.3% of original)\n",
      "\n",
      "Verification:\n",
      "Minimum reviews per user: 5\n",
      "Minimum reviews per item: 5\n",
      "5-core property satisfied: True\n",
      "\n",
      "Verification:\n",
      "Minimum reviews per user: 5\n",
      "Minimum reviews per item: 5\n",
      "5-core property satisfied: True\n",
      "\n",
      "Products filtered: 91407 → 60479 (66.2% retained)\n",
      "Cleaning reviews data: 2,873,395 records\n",
      "\n",
      "Products filtered: 91407 → 60479 (66.2% retained)\n",
      "Cleaning reviews data: 2,873,395 records\n",
      "Cleaned reviews data: 2,721,300 records (152,095 removed)\n",
      "Cleaning products data: 60,479 records\n",
      "Cleaned reviews data: 2,721,300 records (152,095 removed)\n",
      "Cleaning products data: 60,479 records\n",
      "Cleaned products data: 56,370 records (4,109 removed)\n",
      "Creating essential features for recommendation system...\n",
      "============================================================\n",
      "Cleaned products data: 56,370 records (4,109 removed)\n",
      "Creating essential features for recommendation system...\n",
      "============================================================\n",
      "Creating user features...\n",
      "Creating user features...\n",
      "Created user features: 669,848 users, 5 features\n",
      "Created user features: 669,848 users, 5 features\n",
      "Creating item features...\n",
      "Creating item features...\n",
      "Created item features: 112,890 items, 7 features\n",
      "Creating interaction features...\n",
      "Created item features: 112,890 items, 7 features\n",
      "Creating interaction features...\n",
      "Created interaction features: 2,721,300 interactions\n",
      "Creating interaction matrix...\n",
      "Created interaction features: 2,721,300 interactions\n",
      "Creating interaction matrix...\n",
      "Matrix: 4,999 users × 3,000 items (99.4% sparse)\n",
      "\n",
      "Feature creation completed using 2,721,300 reviews\n",
      "Matrix: 4,999 users × 3,000 items (99.4% sparse)\n",
      "\n",
      "Feature creation completed using 2,721,300 reviews\n"
     ]
    }
   ],
   "source": [
    "features = load_and_create_features()"
   ]
  },
  {
   "cell_type": "markdown",
   "id": "982e3f3b",
   "metadata": {},
   "source": [
    "## 2. Explore Feature Creation\n",
    "\n"
   ]
  },
  {
   "cell_type": "code",
   "execution_count": null,
   "id": "c0ae0f77",
   "metadata": {},
   "outputs": [],
   "source": [
    "\n",
    "# Extract individual feature components\n",
    "user_features = features['user_features']\n",
    "item_features = features['item_features'] \n",
    "interaction_features = features['interaction_features']\n",
    "interaction_matrix = features['interaction_matrix']\n",
    "\n",
    "    "
   ]
  },
  {
   "cell_type": "code",
   "execution_count": 34,
   "id": "8518c452",
   "metadata": {},
   "outputs": [
    {
     "name": "stdout",
     "output_type": "stream",
     "text": [
      "FEATURE EXPLORATION\n",
      "==================================================\n",
      "\n",
      "Feature Set Overview:\n",
      "  user_features: (669848, 5)\n",
      "  item_features: (112890, 7)\n",
      "  interaction_features: (2721300, 6)\n",
      "  interaction_matrix: (4999, 3000)\n",
      "\n",
      "User Features: (669848, 5)\n",
      "Columns: ['user_review_count', 'user_avg_rating', 'user_rating_std', 'user_verified_ratio', 'overall']\n",
      "Sample stats:\n",
      "  Avg reviews per user: 8.1\n",
      "  Avg user rating: 4.28\n",
      "\n",
      "Item Features: (112890, 7)\n",
      "Columns: ['item_review_count', 'item_avg_rating', 'item_rating_std', 'item_unique_reviewers', 'item_verified_ratio', 'overall', 'item_category_size']\n",
      "Sample stats:\n",
      "  Avg reviews per item: 48.2\n",
      "  Avg item rating: 4.19\n",
      "\n",
      "Interaction Features: (2721300, 6)\n",
      "Unique users: 334,924\n",
      "Unique users: 334,924\n",
      "Unique items: 56,445\n",
      "\n",
      "Feature exploration completed!\n",
      "Unique items: 56,445\n",
      "\n",
      "Feature exploration completed!\n"
     ]
    }
   ],
   "source": [
    "# Explore the features created\n",
    "print(\"FEATURE EXPLORATION\")\n",
    "print(\"=\"*50)\n",
    "\n",
    "# Overview\n",
    "print(\"\\nFeature Set Overview:\")\n",
    "for name, data in features.items():\n",
    "    if hasattr(data, 'shape'):\n",
    "        print(f\"  {name}: {data.shape}\")\n",
    "    else:\n",
    "        print(f\"  {name}: {type(data).__name__}\")\n",
    "\n",
    "# User Features\n",
    "print(f\"\\nUser Features: {user_features.shape}\")\n",
    "print(f\"Columns: {list(user_features.columns)}\")\n",
    "print(f\"Sample stats:\")\n",
    "print(f\"  Avg reviews per user: {user_features['user_review_count'].mean():.1f}\")\n",
    "print(f\"  Avg user rating: {user_features['user_avg_rating'].mean():.2f}\")\n",
    "\n",
    "# Item Features  \n",
    "print(f\"\\nItem Features: {item_features.shape}\")\n",
    "print(f\"Columns: {list(item_features.columns)}\")\n",
    "print(f\"Sample stats:\")\n",
    "print(f\"  Avg reviews per item: {item_features['item_review_count'].mean():.1f}\")\n",
    "print(f\"  Avg item rating: {item_features['item_avg_rating'].mean():.2f}\")\n",
    "\n",
    "# Interaction Features\n",
    "print(f\"\\nInteraction Features: {interaction_features.shape}\")\n",
    "print(f\"Unique users: {interaction_features['reviewerid'].nunique():,}\")\n",
    "print(f\"Unique items: {interaction_features['asin'].nunique():,}\")\n",
    "\n",
    "# Sparse Matrix\n",
    "\n",
    "if issparse(interaction_matrix):\n",
    "    density = interaction_matrix.nnz / (interaction_matrix.shape[0] * interaction_matrix.shape[1])\n",
    "    print(f\"\\nSparse Matrix: {interaction_matrix.shape[0]:,} x {interaction_matrix.shape[1]:,}\")\n",
    "    print(f\"Non-zero entries: {interaction_matrix.nnz:,}\")\n",
    "    print(f\"Sparsity: {(1-density)*100:.2f}%\")\n",
    "\n",
    "print(\"\\nFeature exploration completed!\")"
   ]
  },
  {
   "cell_type": "markdown",
   "id": "7c3a751d",
   "metadata": {},
   "source": [
    "## 3. Feature Analysis\n",
    "\n",
    "Quick analysis of the essential features created."
   ]
  },
  {
   "cell_type": "code",
   "execution_count": 35,
   "id": "304f67d2",
   "metadata": {},
   "outputs": [
    {
     "name": "stdout",
     "output_type": "stream",
     "text": [
      "<class 'pandas.core.frame.DataFrame'>\n",
      "Index: 2721300 entries, 9 to 3999999\n",
      "Data columns (total 6 columns):\n",
      " #   Column            Dtype  \n",
      "---  ------            -----  \n",
      " 0   reviewerid        object \n",
      " 1   asin              object \n",
      " 2   overall           float64\n",
      " 3   user_avg_rating   float64\n",
      " 4   item_avg_rating   float64\n",
      " 5   rating_deviation  float64\n",
      "dtypes: float64(4), object(2)\n",
      "memory usage: 145.3+ MB\n"
     ]
    }
   ],
   "source": [
    "interaction_features.info()"
   ]
  },
  {
   "cell_type": "code",
   "execution_count": 36,
   "id": "b7c9beae",
   "metadata": {},
   "outputs": [
    {
     "name": "stdout",
     "output_type": "stream",
     "text": [
      "FEATURE ANALYSIS\n",
      "==================================================\n",
      "\n",
      "User Features: (669848, 5)\n",
      "Item Features: (112890, 7)\n",
      "Interactions: (2721300, 6)\n",
      "\n",
      "Key Statistics:\n",
      "  Avg reviews per user: 8.1\n",
      "  Avg user rating: 4.28\n",
      "  Avg reviews per item: 48.2\n",
      "  Avg item rating: 4.19\n"
     ]
    },
    {
     "data": {
      "image/png": "[encoded data removed]",
      "text/plain": [
       "<Figure size 1200x800 with 4 Axes>"
      ]
     },
     "metadata": {},
     "output_type": "display_data"
    }
   ],
   "source": [
    "# Feature analysis and visualization\n",
    "print(\"FEATURE ANALYSIS\")\n",
    "print(\"=\"*50)\n",
    "\n",
    "# Quick stats\n",
    "print(f\"\\nUser Features: {user_features.shape}\")\n",
    "print(f\"Item Features: {item_features.shape}\")\n",
    "print(f\"Interactions: {interaction_features.shape}\")\n",
    "\n",
    "print(f\"\\nKey Statistics:\")\n",
    "print(f\"  Avg reviews per user: {user_features['user_review_count'].mean():.1f}\")\n",
    "print(f\"  Avg user rating: {user_features['user_avg_rating'].mean():.2f}\")\n",
    "print(f\"  Avg reviews per item: {item_features['item_review_count'].mean():.1f}\")\n",
    "print(f\"  Avg item rating: {item_features['item_avg_rating'].mean():.2f}\")\n",
    "\n",
    "# Simple visualizations\n",
    "fig, axes = plt.subplots(2, 2, figsize=(12, 8))\n",
    "\n",
    "# User activity\n",
    "user_features['user_review_count'].hist(bins=30, ax=axes[0,0], alpha=0.7)\n",
    "axes[0,0].set_title('User Activity')\n",
    "axes[0,0].set_xlabel('Reviews per User')\n",
    "axes[0,0].set_yscale('log')\n",
    "\n",
    "# Item popularity\n",
    "item_features['item_review_count'].hist(bins=30, ax=axes[0,1], alpha=0.7, color='orange')\n",
    "axes[0,1].set_title('Item Popularity')\n",
    "axes[0,1].set_xlabel('Reviews per Item')\n",
    "axes[0,1].set_yscale('log')\n",
    "\n",
    "# Rating distribution\n",
    "interaction_features['overall'].hist(bins=10, ax=axes[1,0], alpha=0.7, color='green')\n",
    "axes[1,0].set_title('Rating Distribution')\n",
    "axes[1,0].set_xlabel('Rating')\n",
    "\n",
    "# User vs Item rating distributions (side by side)\n",
    "axes[1,1].hist(user_features['user_avg_rating'], bins=20, alpha=0.5, label='Users', color='blue')\n",
    "axes[1,1].hist(item_features['item_avg_rating'], bins=20, alpha=0.5, label='Items', color='red')\n",
    "axes[1,1].set_title('Rating Distributions')\n",
    "axes[1,1].set_xlabel('Average Rating')\n",
    "axes[1,1].legend()\n",
    "\n",
    "plt.tight_layout()\n",
    "plt.show()"
   ]
  },
  {
   "cell_type": "code",
   "execution_count": 37,
   "id": "88182e97",
   "metadata": {},
   "outputs": [
    {
     "name": "stdout",
     "output_type": "stream",
     "text": [
      "INTERACTION MATRIX\n",
      "==============================\n",
      "Shape: (4999, 3000)\n",
      "\n",
      "Matrix ready for collaborative filtering!\n"
     ]
    }
   ],
   "source": [
    "# Interaction matrix analysis\n",
    "print(\"INTERACTION MATRIX\")\n",
    "print(\"=\"*30)\n",
    "\n",
    "if issparse(interaction_matrix):\n",
    "    total_possible = interaction_matrix.shape[0] * interaction_matrix.shape[1]\n",
    "    sparsity = (1 - interaction_matrix.nnz / total_possible) * 100\n",
    "    memory_mb = (interaction_matrix.data.nbytes + interaction_matrix.indices.nbytes + interaction_matrix.indptr.nbytes) / 1024**2\n",
    "    \n",
    "    print(f\"Shape: {interaction_matrix.shape[0]:,} x {interaction_matrix.shape[1]:,}\")\n",
    "    print(f\"Non-zero entries: {interaction_matrix.nnz:,}\")\n",
    "    print(f\"Sparsity: {sparsity:.2f}%\")\n",
    "    print(f\"Memory usage: {memory_mb:.1f} MB\")\n",
    "    print(f\"Rating range: [{interaction_matrix.data.min():.1f}, {interaction_matrix.data.max():.1f}]\")\n",
    "else:\n",
    "    print(f\"Shape: {interaction_matrix.shape}\")\n",
    "\n",
    "print(\"\\nMatrix ready for collaborative filtering!\")"
   ]
  },
  {
   "cell_type": "markdown",
   "id": "aa74480e",
   "metadata": {},
   "source": [
    "## 4.Saving results"
   ]
  },
  {
   "cell_type": "code",
   "execution_count": 38,
   "id": "45cd4e92",
   "metadata": {},
   "outputs": [
    {
     "name": "stdout",
     "output_type": "stream",
     "text": [
      "Saving features...\n",
      "Saved files:\n",
      " - interaction_features.parquet\n",
      " - interaction_matrix.pkl\n",
      " - item_features.parquet\n",
      " - metadata.pickle\n",
      " - user_features.parquet\n",
      "Features saved to: ../data/features/\n",
      "Ready for modeling!\n"
     ]
    }
   ],
   "source": [
    "# Save features for modeling\n",
    "import pickle\n",
    "import os\n",
    "from scipy.sparse import save_npz\n",
    "\n",
    "# Create directory and save features\n",
    "features_dir = '../data/features'\n",
    "os.makedirs(features_dir, exist_ok=True)\n",
    "\n",
    "print(\"Saving features...\")\n",
    "\n",
    "# Save dataframes\n",
    "user_features.to_parquet(f'{features_dir}/user_features.parquet')\n",
    "item_features.to_parquet(f'{features_dir}/item_features.parquet')\n",
    "interaction_features.to_parquet(f'{features_dir}/interaction_features.parquet')\n",
    "\n",
    "# Save sparse matrix\n",
    "if hasattr(interaction_matrix, 'nnz'):\n",
    "    save_npz(f'{features_dir}/interaction_matrix.npz', interaction_matrix)\n",
    "else:\n",
    "    with open(f'{features_dir}/interaction_matrix.pkl', 'wb') as f:\n",
    "        pickle.dump(interaction_matrix, f)\n",
    "\n",
    "# Save metadata\n",
    "metadata = {\n",
    "    'creation_date': datetime.now().strftime('%Y-%m-%d %H:%M:%S'),\n",
    "    'user_count': len(user_features),\n",
    "    'item_count': len(item_features),\n",
    "    'interaction_count': len(interaction_features),\n",
    "    'matrix_shape': interaction_matrix.shape\n",
    "}\n",
    "\n",
    "with open(f'{features_dir}/metadata.pickle', 'wb') as f:\n",
    "    pickle.dump(metadata, f)\n",
    "\n",
    "# loop through saved files and print their names\n",
    "print(\"Saved files:\")\n",
    "for filename in os.listdir(features_dir):\n",
    "    print(f\" - {filename}\")\n",
    "\n",
    "\n",
    "\n",
    "print(f\"Features saved to: {features_dir}/\")\n",
    "print(\"Ready for modeling!\")"
   ]
  }
 ],
 "metadata": {
  "kernelspec": {
   "display_name": "venv",
   "language": "python",
   "name": "python3"
  },
  "language_info": {
   "codemirror_mode": {
    "name": "ipython",
    "version": 3
   },
   "file_extension": ".py",
   "mimetype": "text/x-python",
   "name": "python",
   "nbconvert_exporter": "python",
   "pygments_lexer": "ipython3",
   "version": "3.13.5"
  }
 },
 "nbformat": 4,
 "nbformat_minor": 5
}
