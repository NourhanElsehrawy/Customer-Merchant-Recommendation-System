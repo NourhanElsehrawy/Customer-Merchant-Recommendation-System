{
 "cells": [
  {
   "cell_type": "markdown",
   "id": "f9697cb9",
   "metadata": {},
   "source": [
    "# Feature Engineering\n",
    "\n",
    "## Objective\n",
    "Create essential features for recommendation models\n",
    "\n",
    "1. **User Features**: Core behavior metrics (ratings, activity, preferences)\n",
    "2. **Item Features**: Essential product characteristics and popularity\n",
    "3. **Interaction Matrix**: Customer-merchant collaborative filtering matrix\n",
    "4. **Temporal Validation**: Prevent data leakage with time splits"
   ]
  },
  {
   "cell_type": "code",
   "execution_count": 1,
   "id": "af77084a",
   "metadata": {},
   "outputs": [],
   "source": [
    "# Import libraries\n",
    "import pandas as pd\n",
    "import numpy as np\n",
    "import matplotlib.pyplot as plt\n",
    "import seaborn as sns\n",
    "import sys\n",
    "import warnings\n",
    "\n",
    "from scipy.sparse import issparse\n",
    "from datetime import datetime\n",
    "\n",
    "# Import utils\n",
    "sys.path.append('../utils')\n",
    "from db_loader import load_amazon_data_k_core\n",
    "from preprocessing import clean_reviews_data, clean_products_data\n",
    "from feature_engineering import load_and_create_features\n",
    "\n",
    "warnings.filterwarnings('ignore')\n",
    "plt.rcParams['figure.figsize'] = (10, 6)"
   ]
  },
  {
   "cell_type": "markdown",
   "id": "e00be721",
   "metadata": {},
   "source": [
    "## 1. Data Loading & Merchant Extraction"
   ]
  },
  {
   "cell_type": "code",
   "execution_count": 2,
   "id": "434104ea",
   "metadata": {},
   "outputs": [
    {
     "name": "stderr",
     "output_type": "stream",
     "text": [
      "2025-10-19 10:13:36,103 | Loading data...\n"
     ]
    },
    {
     "name": "stdout",
     "output_type": "stream",
     "text": [
      "Loading Amazon data with 5-core filtering...\n",
      "Applying 5-core filtering...\n",
      "Original dataset: 4,000,000 reviews\n",
      "Applying 5-core filtering...\n",
      "Original dataset: 4,000,000 reviews\n",
      "Original users: 708,183\n",
      "Original users: 708,183\n",
      "Original items: 85,124\n",
      "Original items: 85,124\n",
      "Iteration 1: 2,943,852 reviews, 346,998 users, 63,126 items\n",
      "Iteration 1: 2,943,852 reviews, 346,998 users, 63,126 items\n",
      "Iteration 2: 2,894,141 reviews, 339,516 users, 57,095 items\n",
      "Iteration 2: 2,894,141 reviews, 339,516 users, 57,095 items\n",
      "Iteration 3: 2,876,440 reviews, 335,444 users, 56,691 items\n",
      "Iteration 3: 2,876,440 reviews, 335,444 users, 56,691 items\n",
      "Iteration 4: 2,874,287 reviews, 335,121 users, 56,472 items\n",
      "Iteration 4: 2,874,287 reviews, 335,121 users, 56,472 items\n",
      "Iteration 5: 2,873,490 reviews, 334,940 users, 56,453 items\n",
      "Iteration 5: 2,873,490 reviews, 334,940 users, 56,453 items\n",
      "Iteration 6: 2,873,422 reviews, 334,931 users, 56,445 items\n",
      "Iteration 6: 2,873,422 reviews, 334,931 users, 56,445 items\n",
      "Iteration 7: 2,873,395 reviews, 334,924 users, 56,445 items\n",
      "Iteration 7: 2,873,395 reviews, 334,924 users, 56,445 items\n",
      "Iteration 8: 2,873,395 reviews, 334,924 users, 56,445 items\n",
      "\n",
      "Final 5-core dataset:\n",
      "Reviews: 2,873,395 (71.8% of original)\n",
      "Iteration 8: 2,873,395 reviews, 334,924 users, 56,445 items\n",
      "\n",
      "Final 5-core dataset:\n",
      "Reviews: 2,873,395 (71.8% of original)\n",
      "Users: 334,924 (47.3% of original)\n",
      "Users: 334,924 (47.3% of original)\n",
      "Items: 56,445 (66.3% of original)\n",
      "Items: 56,445 (66.3% of original)\n",
      "\n",
      "Verification:\n",
      "Minimum reviews per user: 5\n",
      "Minimum reviews per item: 5\n",
      "5-core property satisfied: True\n",
      "\n",
      "Verification:\n",
      "Minimum reviews per user: 5\n",
      "Minimum reviews per item: 5\n",
      "5-core property satisfied: True\n",
      "\n",
      "Products filtered: 91407 → 60479 (66.2% retained)\n",
      "\n",
      "Products filtered: 91407 → 60479 (66.2% retained)\n",
      "Cleaning reviews data: 2,873,395 records\n",
      "Cleaning reviews data: 2,873,395 records\n",
      "Cleaned reviews data: 2,721,300 records (152,095 removed)\n",
      "Cleaning products data: 60,479 records\n",
      "Cleaned reviews data: 2,721,300 records (152,095 removed)\n",
      "Cleaning products data: 60,479 records\n"
     ]
    },
    {
     "name": "stderr",
     "output_type": "stream",
     "text": [
      "2025-10-19 10:16:44,337 | Starting customer-merchant feature creation...\n"
     ]
    },
    {
     "name": "stdout",
     "output_type": "stream",
     "text": [
      "Cleaned products data: 56,370 records (4,109 removed)\n"
     ]
    },
    {
     "name": "stderr",
     "output_type": "stream",
     "text": [
      "2025-10-19 10:16:45,071 | Building user features...\n",
      "2025-10-19 10:18:15,499 | Building item features...\n",
      "2025-10-19 10:18:15,499 | Building item features...\n",
      "2025-10-19 10:18:34,319 | Building interaction features...\n",
      "2025-10-19 10:18:34,319 | Building interaction features...\n",
      "2025-10-19 10:18:38,441 | Creating sparse customer-merchant interaction matrix...\n",
      "2025-10-19 10:18:38,441 | Creating sparse customer-merchant interaction matrix...\n",
      "2025-10-19 10:18:41,391 | Original data: 2,721,300 interactions\n",
      "2025-10-19 10:18:41,392 | With merchant info: 2,718,509 interactions\n",
      "2025-10-19 10:18:41,391 | Original data: 2,721,300 interactions\n",
      "2025-10-19 10:18:41,392 | With merchant info: 2,718,509 interactions\n",
      "2025-10-19 10:18:43,401 | Customers with >=5 interactions: 305,699\n",
      "2025-10-19 10:18:43,403 | Merchants with >=5 interactions: 7,089\n",
      "2025-10-19 10:18:43,401 | Customers with >=5 interactions: 305,699\n",
      "2025-10-19 10:18:43,403 | Merchants with >=5 interactions: 7,089\n",
      "2025-10-19 10:18:46,733 | After filtering: 2,605,418 interactions\n",
      "2025-10-19 10:18:46,733 | After filtering: 2,605,418 interactions\n",
      "2025-10-19 10:18:50,773 | Aggregated to 2,298,004 customer-merchant pairs\n",
      "2025-10-19 10:18:50,773 | Aggregated to 2,298,004 customer-merchant pairs\n",
      "2025-10-19 10:18:52,398 | Customer-Merchant matrix: 305,699 customers × 7,089 merchants (0.106% density)\n",
      "2025-10-19 10:18:52,399 | Non-zero entries: 2,298,004\n",
      "2025-10-19 10:18:52,398 | Customer-Merchant matrix: 305,699 customers × 7,089 merchants (0.106% density)\n",
      "2025-10-19 10:18:52,399 | Non-zero entries: 2,298,004\n",
      "2025-10-19 10:18:58,707 | Customer-merchant feature creation completed using 2,721,300 reviews\n",
      "2025-10-19 10:18:58,707 | Customer-merchant feature creation completed using 2,721,300 reviews\n"
     ]
    }
   ],
   "source": [
    "reviews_raw, products_raw, features = load_and_create_features()"
   ]
  },
  {
   "cell_type": "markdown",
   "id": "74a224aa",
   "metadata": {},
   "source": [
    "## 2. Explore Feature Creation"
   ]
  },
  {
   "cell_type": "code",
   "execution_count": 3,
   "id": "8f29f37e",
   "metadata": {},
   "outputs": [],
   "source": [
    "# Extract individual feature components\n",
    "user_features = features['user_features']\n",
    "item_features = features['item_features'] \n",
    "interaction_features = features['interaction_features']\n",
    "interaction_matrix = features['interaction_matrix']  \n"
   ]
  },
  {
   "cell_type": "code",
   "execution_count": 4,
   "id": "a27312d1",
   "metadata": {},
   "outputs": [
    {
     "name": "stdout",
     "output_type": "stream",
     "text": [
      "Reviews with valid merchant data: 3,087,654\n",
      "Unique customers: 334,924\n",
      "Unique customers: 334,924\n",
      "Unique merchants: 7,139\n",
      "Unique merchants: 7,139\n"
     ]
    }
   ],
   "source": [
    "\n",
    "\n",
    "# Merge reviews with products to get merchant (brand) information\n",
    "reviews_with_merchants = reviews_raw.merge(\n",
    "    products_raw[['asin', 'brand']], on='asin', how='inner'\n",
    ")\n",
    "\n",
    "# Clean merchant data - remove missing brands\n",
    "reviews_with_merchants = reviews_with_merchants[\n",
    "    (reviews_with_merchants['brand'].notna()) & \n",
    "    (reviews_with_merchants['brand'] != 'Unknown')\n",
    "].copy()\n",
    "\n",
    "print(f\"Reviews with valid merchant data: {len(reviews_with_merchants):,}\")\n",
    "print(f\"Unique customers: {reviews_with_merchants['reviewerid'].nunique():,}\")\n",
    "print(f\"Unique merchants: {reviews_with_merchants['brand'].nunique():,}\")"
   ]
  },
  {
   "cell_type": "code",
   "execution_count": 5,
   "id": "34af50a0",
   "metadata": {},
   "outputs": [
    {
     "name": "stdout",
     "output_type": "stream",
     "text": [
      "Created mappings:\n",
      "  Customers: 334,924\n",
      "  Merchants: 7,139\n"
     ]
    }
   ],
   "source": [
    "# Create customer and merchant mappings\n",
    "unique_customers = reviews_with_merchants['reviewerid'].unique()\n",
    "unique_merchants = reviews_with_merchants['brand'].unique()\n",
    "\n",
    "customer_to_idx = {customer: idx for idx, customer in enumerate(unique_customers)}\n",
    "merchant_to_idx = {merchant: idx for idx, merchant in enumerate(unique_merchants)}\n",
    "\n",
    "# Reverse mappings\n",
    "idx_to_customer = {idx: customer for customer, idx in customer_to_idx.items()}\n",
    "idx_to_merchant = {idx: merchant for merchant, idx in merchant_to_idx.items()}\n",
    "\n",
    "print(f\"Created mappings:\")\n",
    "print(f\"  Customers: {len(customer_to_idx):,}\")\n",
    "print(f\"  Merchants: {len(merchant_to_idx):,}\")\n",
    "\n",
    "# Add indices to dataframe\n",
    "reviews_with_merchants['customer_idx'] = reviews_with_merchants['reviewerid'].map(customer_to_idx)\n",
    "reviews_with_merchants['merchant_idx'] = reviews_with_merchants['brand'].map(merchant_to_idx)"
   ]
  },
  {
   "cell_type": "code",
   "execution_count": 6,
   "id": "5aecba80",
   "metadata": {},
   "outputs": [
    {
     "name": "stdout",
     "output_type": "stream",
     "text": [
      "Aggregating customer-merchant interactions...\n",
      "Verified column dtype: object\n",
      "Verified unique values: ['True' 'False']\n",
      "Starting aggregation...\n",
      "Columns before aggregation: ['id', 'asin', 'overall', 'reviewtext', 'reviewtime', 'reviewerid', 'reviewername', 'style', 'summary', 'unixreviewtime', 'verified', 'vote', 'brand', 'customer_idx', 'merchant_idx', 'verified_numeric']\n",
      "Data types: id                   int64\n",
      "asin                object\n",
      "overall             object\n",
      "reviewtext          object\n",
      "reviewtime          object\n",
      "reviewerid          object\n",
      "reviewername        object\n",
      "style               object\n",
      "summary             object\n",
      "unixreviewtime      object\n",
      "verified            object\n",
      "vote                object\n",
      "brand               object\n",
      "customer_idx         int64\n",
      "merchant_idx         int64\n",
      "verified_numeric     int64\n",
      "dtype: object\n",
      "Starting aggregation...\n",
      "Columns before aggregation: ['id', 'asin', 'overall', 'reviewtext', 'reviewtime', 'reviewerid', 'reviewername', 'style', 'summary', 'unixreviewtime', 'verified', 'vote', 'brand', 'customer_idx', 'merchant_idx', 'verified_numeric']\n",
      "Data types: id                   int64\n",
      "asin                object\n",
      "overall             object\n",
      "reviewtext          object\n",
      "reviewtime          object\n",
      "reviewerid          object\n",
      "reviewername        object\n",
      "style               object\n",
      "summary             object\n",
      "unixreviewtime      object\n",
      "verified            object\n",
      "vote                object\n",
      "brand               object\n",
      "customer_idx         int64\n",
      "merchant_idx         int64\n",
      "verified_numeric     int64\n",
      "dtype: object\n",
      "Customer-merchant pairs: 2,398,431\n",
      "Average interactions per pair: 1.3\n",
      "Customer-merchant pairs: 2,398,431\n",
      "Average interactions per pair: 1.3\n"
     ]
    }
   ],
   "source": [
    "# Create aggregated customer-merchant interactions\n",
    "print(\"Aggregating customer-merchant interactions...\")\n",
    "\n",
    "# Check verified column and convert to numeric\n",
    "if 'verified' in reviews_with_merchants.columns:\n",
    "    print(f\"Verified column dtype: {reviews_with_merchants['verified'].dtype}\")\n",
    "    print(f\"Verified unique values: {reviews_with_merchants['verified'].unique()[:10]}\")\n",
    "    \n",
    "    # Handle different data types for verified column\n",
    "    if reviews_with_merchants['verified'].dtype == 'bool':\n",
    "        reviews_with_merchants['verified_numeric'] = reviews_with_merchants['verified'].astype(int)\n",
    "    else:\n",
    "        # Convert to string first, then check for True/true values\n",
    "        reviews_with_merchants['verified_numeric'] = (\n",
    "            reviews_with_merchants['verified'].astype(str).str.lower() == 'true'\n",
    "        ).astype(int)\n",
    "else:\n",
    "    reviews_with_merchants['verified_numeric'] = 0\n",
    "\n",
    "# Group by customer-merchant pairs and aggregate ratings\n",
    "print(\"Starting aggregation...\")\n",
    "print(f\"Columns before aggregation: {reviews_with_merchants.columns.tolist()}\")\n",
    "print(f\"Data types: {reviews_with_merchants.dtypes}\")\n",
    "\n",
    "# Select only the columns we need for aggregation\n",
    "agg_columns = ['customer_idx', 'merchant_idx', 'overall', 'verified_numeric']\n",
    "reviews_for_agg = reviews_with_merchants[agg_columns].copy()\n",
    "\n",
    "# Ensure all columns are proper numeric types\n",
    "reviews_for_agg['overall'] = pd.to_numeric(reviews_for_agg['overall'], errors='coerce')\n",
    "reviews_for_agg['verified_numeric'] = pd.to_numeric(reviews_for_agg['verified_numeric'], errors='coerce')\n",
    "\n",
    "customer_merchant_agg = reviews_for_agg.groupby(['customer_idx', 'merchant_idx']).agg({\n",
    "    'overall': ['mean', 'count'],\n",
    "    'verified_numeric': 'mean'\n",
    "}).round(2)\n",
    "\n",
    "customer_merchant_agg.columns = ['avg_rating', 'interaction_count', 'verified_pct']\n",
    "customer_merchant_agg = customer_merchant_agg.reset_index()\n",
    "\n",
    "# Create interaction score (weighted by frequency and verification)\n",
    "customer_merchant_agg['interaction_score'] = (\n",
    "    customer_merchant_agg['avg_rating'] * 0.7 +\n",
    "    np.log1p(customer_merchant_agg['interaction_count']) * 0.2 +\n",
    "    customer_merchant_agg['verified_pct'] * 0.1\n",
    ")\n",
    "\n",
    "print(f\"Customer-merchant pairs: {len(customer_merchant_agg):,}\")\n",
    "print(f\"Average interactions per pair: {customer_merchant_agg['interaction_count'].mean():.1f}\")"
   ]
  },
  {
   "cell_type": "code",
   "execution_count": 7,
   "id": "29e40e01",
   "metadata": {},
   "outputs": [
    {
     "name": "stdout",
     "output_type": "stream",
     "text": [
      "Creating sparse customer-merchant matrix...\n",
      "\n",
      "Customer-Merchant Interaction Matrix:\n",
      "  Shape: 334,924 x 7,139\n",
      "  Non-zero entries: 2,398,431\n",
      "  Sparsity: 99.90%\n",
      "  Memory usage: 28.7 MB\n",
      "  Score range: [0.84, 4.35]\n"
     ]
    }
   ],
   "source": [
    "# Create sparse interaction matrix\n",
    "print(\"Creating sparse customer-merchant matrix...\")\n",
    "\n",
    "n_customers = len(customer_to_idx)\n",
    "n_merchants = len(merchant_to_idx)\n",
    "\n",
    "from scipy.sparse import csr_matrix\n",
    "# Use interaction scores as matrix values\n",
    "customer_merchant_matrix = csr_matrix(\n",
    "    (customer_merchant_agg['interaction_score'],\n",
    "     (customer_merchant_agg['customer_idx'], customer_merchant_agg['merchant_idx'])),\n",
    "    shape=(n_customers, n_merchants)\n",
    ")\n",
    "\n",
    "# Matrix statistics\n",
    "total_possible = n_customers * n_merchants\n",
    "sparsity = (1 - customer_merchant_matrix.nnz / total_possible) * 100\n",
    "memory_mb = (customer_merchant_matrix.data.nbytes + customer_merchant_matrix.indices.nbytes + customer_merchant_matrix.indptr.nbytes) / 1024**2\n",
    "\n",
    "print(f\"\\nCustomer-Merchant Interaction Matrix:\")\n",
    "print(f\"  Shape: {customer_merchant_matrix.shape[0]:,} x {customer_merchant_matrix.shape[1]:,}\")\n",
    "print(f\"  Non-zero entries: {customer_merchant_matrix.nnz:,}\")\n",
    "print(f\"  Sparsity: {sparsity:.2f}%\")\n",
    "print(f\"  Memory usage: {memory_mb:.1f} MB\")\n",
    "print(f\"  Score range: [{customer_merchant_matrix.data.min():.2f}, {customer_merchant_matrix.data.max():.2f}]\")"
   ]
  },
  {
   "cell_type": "markdown",
   "id": "68f53927",
   "metadata": {},
   "source": [
    "## 4. Save Results"
   ]
  },
  {
   "cell_type": "code",
   "execution_count": 8,
   "id": "d2efd176",
   "metadata": {},
   "outputs": [
    {
     "name": "stdout",
     "output_type": "stream",
     "text": [
      "Creating train-test split...\n",
      "Temporal split based on review time\n",
      "Train data: 2,470,123 interactions\n",
      "Test data: 617,531 interactions\n",
      "Temporal split based on review time\n",
      "Train data: 2,470,123 interactions\n",
      "Test data: 617,531 interactions\n",
      "Test matrix: 509,432 interactions\n",
      "Test matrix: 509,432 interactions\n"
     ]
    }
   ],
   "source": [
    "# Create temporal split for validation\n",
    "print(\"Creating train-test split...\")\n",
    "\n",
    "# Sort by review time if available\n",
    "if 'unixreviewtime' in reviews_with_merchants.columns:\n",
    "    reviews_with_merchants = reviews_with_merchants.sort_values('unixreviewtime')\n",
    "    \n",
    "    # Use 80% for training, 20% for testing (temporal split)\n",
    "    split_idx = int(len(reviews_with_merchants) * 0.8)\n",
    "    train_data = reviews_with_merchants.iloc[:split_idx].copy()\n",
    "    test_data = reviews_with_merchants.iloc[split_idx:].copy()\n",
    "    \n",
    "    print(f\"Temporal split based on review time\")\n",
    "else:\n",
    "    # Random split if no time data\n",
    "    train_data = reviews_with_merchants.sample(frac=0.8, random_state=42)\n",
    "    test_data = reviews_with_merchants.drop(train_data.index)\n",
    "    \n",
    "    print(f\"Random split (no temporal data)\")\n",
    "\n",
    "print(f\"Train data: {len(train_data):,} interactions\")\n",
    "print(f\"Test data: {len(test_data):,} interactions\")\n",
    "\n",
    "# Create test matrix (for evaluation)\n",
    "# Ensure overall column is numeric before aggregation\n",
    "test_data_clean = test_data.copy()\n",
    "test_data_clean['overall'] = pd.to_numeric(test_data_clean['overall'], errors='coerce')\n",
    "\n",
    "test_agg = test_data_clean.groupby(['customer_idx', 'merchant_idx']).agg({\n",
    "    'overall': 'mean'\n",
    "}).round(2)\n",
    "test_agg.columns = ['avg_rating']\n",
    "test_agg = test_agg.reset_index()\n",
    "\n",
    "test_customer_merchant_matrix = csr_matrix(\n",
    "    (test_agg['avg_rating'],\n",
    "     (test_agg['customer_idx'], test_agg['merchant_idx'])),\n",
    "    shape=(n_customers, n_merchants)\n",
    ")\n",
    "\n",
    "print(f\"Test matrix: {test_customer_merchant_matrix.nnz:,} interactions\")"
   ]
  },
  {
   "cell_type": "code",
   "execution_count": 10,
   "id": "45cd4e92",
   "metadata": {},
   "outputs": [
    {
     "name": "stdout",
     "output_type": "stream",
     "text": [
      "  - .gitkeep\n",
      "  - customer_merchant_features.parquet\n",
      "  - customer_merchant_matrix.npz\n",
      "  - merchant_features.parquet\n",
      "  - merchant_mappings.pickle\n",
      "  - test_customer_merchant_matrix.npz\n",
      "  - test_merchant_data.parquet\n",
      "  - train_merchant_data.parquet\n",
      "\n",
      "Saved to ../data/features/:\n"
     ]
    }
   ],
   "source": [
    "# Create features directory\n",
    "import os \n",
    "features_dir = '../data/features'\n",
    "os.makedirs(features_dir, exist_ok=True)\n",
    "\n",
    "# Save interaction matrices\n",
    "from scipy.sparse import save_npz\n",
    "\n",
    "save_npz(f'{features_dir}/customer_merchant_matrix.npz', customer_merchant_matrix)\n",
    "save_npz(f'{features_dir}/test_customer_merchant_matrix.npz', test_customer_merchant_matrix)\n",
    "\n",
    "# Save mappings\n",
    "mappings = {\n",
    "    'customer_to_idx': customer_to_idx,\n",
    "    'merchant_to_idx': merchant_to_idx,\n",
    "    'idx_to_customer': idx_to_customer,\n",
    "    'idx_to_merchant': idx_to_merchant\n",
    "}\n",
    "\n",
    "import pickle\n",
    "with open(f'{features_dir}/merchant_mappings.pickle', 'wb') as f:\n",
    "    pickle.dump(mappings, f)\n",
    "\n",
    "# Save processed data\n",
    "train_data.to_parquet(f'{features_dir}/train_merchant_data.parquet')\n",
    "test_data.to_parquet(f'{features_dir}/test_merchant_data.parquet')\n",
    "customer_merchant_agg.to_parquet(f'{features_dir}/customer_merchant_features.parquet')\n",
    "\n",
    "# Save merchant summary\n",
    "# Ensure overall column is numeric before aggregation\n",
    "reviews_with_merchants['overall'] = pd.to_numeric(reviews_with_merchants['overall'], errors='coerce')\n",
    "\n",
    "merchant_summary = reviews_with_merchants.groupby('merchant_idx').agg({\n",
    "    'overall': ['count', 'mean'],\n",
    "    'reviewerid': 'nunique',\n",
    "    'brand': 'first'\n",
    "}).round(2)\n",
    "merchant_summary.columns = ['review_count', 'avg_rating', 'customer_count', 'merchant_name']\n",
    "merchant_summary.to_parquet(f'{features_dir}/merchant_features.parquet')\n",
    "\n",
    "\n",
    "for filename in os.listdir(features_dir):\n",
    "    print(f\"  - {filename}\")\n",
    "\n",
    "print(f\"\\nSaved to {features_dir}/:\")\n"
   ]
  }
 ],
 "metadata": {
  "kernelspec": {
   "display_name": "venv",
   "language": "python",
   "name": "python3"
  },
  "language_info": {
   "codemirror_mode": {
    "name": "ipython",
    "version": 3
   },
   "file_extension": ".py",
   "mimetype": "text/x-python",
   "name": "python",
   "nbconvert_exporter": "python",
   "pygments_lexer": "ipython3",
   "version": "3.13.5"
  }
 },
 "nbformat": 4,
 "nbformat_minor": 5
}
